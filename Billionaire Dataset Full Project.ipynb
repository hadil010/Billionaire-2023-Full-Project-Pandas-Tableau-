{
 "cells": [
  {
   "cell_type": "markdown",
   "id": "dc2c559c-479e-4f26-b626-4837589070cb",
   "metadata": {},
   "source": [
    "<h1> <strong>  Who's Rolling in Dough? </strong> </h1>\n",
    "<h3> <strong> EDA of Billionaires Dataset 2023 </strong> </h3>"
   ]
  },
  {
   "cell_type": "markdown",
   "id": "0e531eab-d6ea-4975-9bab-5a57b6653467",
   "metadata": {},
   "source": [
    "Ever wondered who holds the world's wealth?. In the journey ahead, I delved into data, seeking patterns and insights to shed light on what makes individuals amass fortunes of such magnitude. Join me as I unravel the stories behind the number. "
   ]
  },
  {
   "cell_type": "markdown",
   "id": "50126743-6466-4122-8595-3652ca7d7369",
   "metadata": {},
   "source": [
    "I conducted exploratory data analytics and visualization. Using Python, I performed data cleaning, descriptive statistics, and feature engineering. Subsequently, I leveraged Tableau for visualization. The final step  involved deriving interesting insights from the analysis"
   ]
  },
  {
   "cell_type": "markdown",
   "id": "e04f8483-c35d-4505-9c2d-b2e71edfc7e6",
   "metadata": {},
   "source": [
    "<h2> <strong> About the Dataset </strong> </h2>"
   ]
  },
  {
   "cell_type": "markdown",
   "id": "29830988-c2e1-4fd5-903b-57cc2cfecd0d",
   "metadata": {},
   "source": [
    "\r\n",
    "The Billionaires Statistics Dataset (2023) is a comprehensive compilation offering a detailed panorama of the world's billionaires, providing a profound understanding of their wealth distribution, business sectors, and demographic attributes on a global scale."
   ]
  },
  {
   "cell_type": "markdown",
   "id": "235caca2-bcd1-43c4-8682-5b6baebfbe2a",
   "metadata": {},
   "source": [
    "<h3> <strong>Key components of this dataset include: </strong></h3>"
   ]
  },
  {
   "cell_type": "markdown",
   "id": "9cab2e71-ee00-430c-b8cd-8695b5a90106",
   "metadata": {},
   "source": [
    "- rank: The ranking of the billionaire in terms of wealth.\n",
    "- finalWorth: The final net worth of the billionaire in U.S. dollars.\n",
    "- category: The category or industry in which the billionaire's business operates.\n",
    "- personName: The full name of the billionaire.\n",
    "- age: The age of the billionaire.\n",
    "- country: The country in which the billionaire resides.\n",
    "- city: The city in which the billionaire resides.\n",
    "- source: The source of the billionaire's wealth.\n",
    "- industries: The industries associated with the billionaire's business interests.\n",
    "- countryOfCitizenship: The country of citizenship of the billionaire.\n",
    "- organization: The name of the organization or company associated with the billionaire.\n",
    "- selfMade: Indicates whether the billionaire is self-made (True/False).\n",
    "- status: \"D\" represents self-made billionaires (Founders/Entrepreneurs) and \"U\" indicates inherited or unearned wealth.\n",
    "- gender: The gender of the billionaire.\n",
    "- birthDate: The birthdate of the billionaire.\n",
    "- lastName: The last name of the billionaire.\n",
    "- firstName: The first name of the billionaire.\n",
    "- title: The title or honorific of the billionaire.\n",
    "- date: The date of data collection.\n",
    "- state: The state in which the billionaire resides.\n",
    "- residenceStateRegion: The region or state of residence of the billionaire.\n",
    "- birthYear: The birth year of the billionaire.\n",
    "- birthMonth: The birth month of the billionaire.\n",
    "- birthDay: The birth day of the billionaire.\n",
    "- cpi_country: Consumer Price Index (CPI) for the billionaire's country.\n",
    "- cpi_change_country: CPI change for the billionaire's country.\n",
    "- gdp_country: Gross Domestic Product (GDP) for the billionaire's country.\n",
    "- gross_tertiary_education_enrollment: Enrollment in tertiary education in the billionaire's country.\n",
    "- gross_primary_education_enrollment_country: Enrollment in primary education in the billionaire's country.\n",
    "- life_expectancy_country: Life expectancy in the billionaire's country.\n",
    "- tax_revenue_country_country: Tax revenue in the billionaire's country.\n",
    "- total_tax_rate_country: Total tax rate in the billionaire's country.\n",
    "- population_country: Population of the billionaire's country.\n",
    "- latitude_country: Latitude coordinate of the billionaire's country.\n",
    "- longitude_country: Longitude coordinate of the billionaire's country."
   ]
  },
  {
   "cell_type": "markdown",
   "id": "23f10caf-10ac-49a8-8726-0193b2db6546",
   "metadata": {},
   "source": [
    "<h3> <strong>Project Sections:  </strong></h3>"
   ]
  },
  {
   "cell_type": "markdown",
   "id": "48144d70-a7f8-4d1d-b4d4-4d67c4f14588",
   "metadata": {},
   "source": [
    "1.  Project Loading and Displaying\n",
    "2. Data Cleaning\n",
    "3. Descriptive Statistics\n",
    "4. Feature Engineering for Cleaning\n",
    "5. Data Export\n",
    "6. Visualization By Tableau\n",
    "7. Insights "
   ]
  },
  {
   "cell_type": "markdown",
   "id": "88230f45-427d-4ce2-a5d1-081e19a0a59e",
   "metadata": {},
   "source": [
    "<h3> <strong>Data Loading and Displaying </strong></h3>"
   ]
  },
  {
   "cell_type": "markdown",
   "id": "1f6b08b5-fa2f-49b3-8113-9624907fff09",
   "metadata": {},
   "source": [
    "\r",
    "I  begin by importing the necessary libraries, such as pandas, numpy, matplotlib, and seaborn. Following that, I loaded the billionaire dataset into data frame. Subsequently, I displayed the first few rows to gain an overview of the data."
   ]
  },
  {
   "cell_type": "code",
   "execution_count": 1,
   "id": "80dd1fe5-c234-4a26-8d02-54783c73d4dd",
   "metadata": {},
   "outputs": [],
   "source": [
    "#Import the necessary libraries \n",
    "import pandas as pd\n",
    "import numpy as np\n",
    "import matplotlib.pyplot as plt\n",
    "import seaborn as sns\n",
    "import plotly.graph_objects as go"
   ]
  },
  {
   "cell_type": "code",
   "execution_count": 2,
   "id": "e44d4a36-9df5-402d-901e-80af14ef93ed",
   "metadata": {},
   "outputs": [],
   "source": [
    "#Import Data\n",
    "df = pd.read_csv('C:/Users/pc/Documents/Projects/Billionaire/Billionaires_Dataset.csv')"
   ]
  },
  {
   "cell_type": "code",
   "execution_count": 3,
   "id": "e9b4f744-cb59-4e6a-bb8f-f913f3d89c1f",
   "metadata": {},
   "outputs": [
    {
     "data": {
      "text/html": [
       "<div>\n",
       "<style scoped>\n",
       "    .dataframe tbody tr th:only-of-type {\n",
       "        vertical-align: middle;\n",
       "    }\n",
       "\n",
       "    .dataframe tbody tr th {\n",
       "        vertical-align: top;\n",
       "    }\n",
       "\n",
       "    .dataframe thead th {\n",
       "        text-align: right;\n",
       "    }\n",
       "</style>\n",
       "<table border=\"1\" class=\"dataframe\">\n",
       "  <thead>\n",
       "    <tr style=\"text-align: right;\">\n",
       "      <th></th>\n",
       "      <th>rank</th>\n",
       "      <th>finalWorth</th>\n",
       "      <th>category</th>\n",
       "      <th>personName</th>\n",
       "      <th>age</th>\n",
       "      <th>country</th>\n",
       "      <th>city</th>\n",
       "      <th>source</th>\n",
       "      <th>industries</th>\n",
       "      <th>countryOfCitizenship</th>\n",
       "      <th>...</th>\n",
       "      <th>cpi_change_country</th>\n",
       "      <th>gdp_country</th>\n",
       "      <th>gross_tertiary_education_enrollment</th>\n",
       "      <th>gross_primary_education_enrollment_country</th>\n",
       "      <th>life_expectancy_country</th>\n",
       "      <th>tax_revenue_country_country</th>\n",
       "      <th>total_tax_rate_country</th>\n",
       "      <th>population_country</th>\n",
       "      <th>latitude_country</th>\n",
       "      <th>longitude_country</th>\n",
       "    </tr>\n",
       "  </thead>\n",
       "  <tbody>\n",
       "    <tr>\n",
       "      <th>0</th>\n",
       "      <td>1</td>\n",
       "      <td>211000</td>\n",
       "      <td>Fashion &amp; Retail</td>\n",
       "      <td>Bernard Arnault &amp; family</td>\n",
       "      <td>74.0</td>\n",
       "      <td>France</td>\n",
       "      <td>Paris</td>\n",
       "      <td>LVMH</td>\n",
       "      <td>Fashion &amp; Retail</td>\n",
       "      <td>France</td>\n",
       "      <td>...</td>\n",
       "      <td>1.1</td>\n",
       "      <td>$2,715,518,274,227</td>\n",
       "      <td>65.6</td>\n",
       "      <td>102.5</td>\n",
       "      <td>82.5</td>\n",
       "      <td>24.2</td>\n",
       "      <td>60.7</td>\n",
       "      <td>67059887.0</td>\n",
       "      <td>46.227638</td>\n",
       "      <td>2.213749</td>\n",
       "    </tr>\n",
       "  </tbody>\n",
       "</table>\n",
       "<p>1 rows × 35 columns</p>\n",
       "</div>"
      ],
      "text/plain": [
       "   rank  finalWorth          category                personName   age country  \\\n",
       "0     1      211000  Fashion & Retail  Bernard Arnault & family  74.0  France   \n",
       "\n",
       "    city source        industries countryOfCitizenship  ...  \\\n",
       "0  Paris   LVMH  Fashion & Retail               France  ...   \n",
       "\n",
       "  cpi_change_country          gdp_country gross_tertiary_education_enrollment  \\\n",
       "0                1.1  $2,715,518,274,227                                 65.6   \n",
       "\n",
       "  gross_primary_education_enrollment_country life_expectancy_country  \\\n",
       "0                                      102.5                    82.5   \n",
       "\n",
       "  tax_revenue_country_country total_tax_rate_country population_country  \\\n",
       "0                        24.2                   60.7         67059887.0   \n",
       "\n",
       "  latitude_country longitude_country  \n",
       "0        46.227638          2.213749  \n",
       "\n",
       "[1 rows x 35 columns]"
      ]
     },
     "execution_count": 3,
     "metadata": {},
     "output_type": "execute_result"
    }
   ],
   "source": [
    "#Display the first few rows to get an overview of the data.\n",
    "df.head(1)"
   ]
  },
  {
   "cell_type": "markdown",
   "id": "894f7edd-3148-4615-a3b7-5c67d5bc6986",
   "metadata": {},
   "source": [
    "<h3> <strong>Data Cleaning </strong></h3>"
   ]
  },
  {
   "cell_type": "markdown",
   "id": "773639c4-3db3-417e-9903-66bcb07c6ea1",
   "metadata": {},
   "source": [
    "\n",
    "In the initial phase of data cleaning, Istartedd by scrutinizing the dataset for any missing values.After thaty, I presented a detailed analysis by showcasing the distribution of missing values as a percentage of the total dataset. "
   ]
  },
  {
   "cell_type": "code",
   "execution_count": 4,
   "id": "c2748ca5-7281-461a-9be1-c56e9ec38bbe",
   "metadata": {},
   "outputs": [
    {
     "name": "stdout",
     "output_type": "stream",
     "text": [
      "                                            Missing_Values  Percentage\n",
      "rank                                                     0    0.000000\n",
      "finalWorth                                               0    0.000000\n",
      "category                                                 0    0.000000\n",
      "personName                                               0    0.000000\n",
      "age                                                     65    2.462121\n",
      "country                                                 38    1.439394\n",
      "city                                                    72    2.727273\n",
      "source                                                   0    0.000000\n",
      "industries                                               0    0.000000\n",
      "countryOfCitizenship                                     0    0.000000\n",
      "organization                                          2315   87.689394\n",
      "selfMade                                                 0    0.000000\n",
      "status                                                   0    0.000000\n",
      "gender                                                   0    0.000000\n",
      "birthDate                                               76    2.878788\n",
      "lastName                                                 0    0.000000\n",
      "firstName                                                3    0.113636\n",
      "title                                                 2301   87.159091\n",
      "date                                                     0    0.000000\n",
      "state                                                 1887   71.477273\n",
      "residenceStateRegion                                  1893   71.704545\n",
      "birthYear                                               76    2.878788\n",
      "birthMonth                                              76    2.878788\n",
      "birthDay                                                76    2.878788\n",
      "cpi_country                                            184    6.969697\n",
      "cpi_change_country                                     184    6.969697\n",
      "gdp_country                                            164    6.212121\n",
      "gross_tertiary_education_enrollment                    182    6.893939\n",
      "gross_primary_education_enrollment_country             181    6.856061\n",
      "life_expectancy_country                                182    6.893939\n",
      "tax_revenue_country_country                            183    6.931818\n",
      "total_tax_rate_country                                 182    6.893939\n",
      "population_country                                     164    6.212121\n",
      "latitude_country                                       164    6.212121\n",
      "longitude_country                                      164    6.212121\n"
     ]
    }
   ],
   "source": [
    "# Step 1: Check for missing values in the entire DataFrame\n",
    "missing_values = df.isnull().sum()\n",
    "\n",
    "# Step 2: Display missing values as a percentage of the total values\n",
    "missing_percentage = (df.isnull().sum() / len(df)) * 100\n",
    "\n",
    "# Step 3: Display missing values and their percentage in a DataFrame\n",
    "missing_info = pd.DataFrame({'Missing_Values': missing_values, 'Percentage': missing_percentage})\n",
    "print(missing_info)"
   ]
  },
  {
   "cell_type": "markdown",
   "id": "dc0aa2dd-c859-4573-8b4d-ac9d26d1d30d",
   "metadata": {},
   "source": [
    "From the chart, it's evident that four columns—organization, title, state, and residenceStateRegion—have a substantial proportion of missing values. Considering their limited relevance for our analysis, I have decided to drop these columns."
   ]
  },
  {
   "cell_type": "code",
   "execution_count": 5,
   "id": "c555aa37-d9ae-463f-a421-0cdefdda54ae",
   "metadata": {},
   "outputs": [],
   "source": [
    "# Define the columns to drop\n",
    "columns_to_drop = ['organization', 'title', 'state', 'residenceStateRegion']\n",
    "\n",
    "# Drop the specified columns\n",
    "df.drop(columns=columns_to_drop, axis=1, inplace=True)\n",
    "\n",
    "# Print or display the updated DataFrame\n",
    "#print(df.head())  # Optional: Display the first few rows to verify the changes"
   ]
  },
  {
   "cell_type": "markdown",
   "id": "d376c1f0-63eb-48a4-9d77-d90c90cc5972",
   "metadata": {},
   "source": [
    "I also dropped the 'life_expectancy_country' and 'cpi_change_country' columns as I find them to be irrelevant to the analysis."
   ]
  },
  {
   "cell_type": "code",
   "execution_count": 6,
   "id": "20816d00-e25b-4af2-b7cf-5bb17196282e",
   "metadata": {},
   "outputs": [],
   "source": [
    "columns_to_drop = ['life_expectancy_country', 'cpi_change_country', 'firstName', 'lastName', 'tax_revenue_country_country','cpi_country', 'city']\n",
    "#I removed the first name and last name because we already have personName  \n",
    "# Drop the specified columns\n",
    "df.drop(columns=columns_to_drop, inplace=True)"
   ]
  },
  {
   "cell_type": "markdown",
   "id": "baaacc6f-2e95-429e-9b0c-9c8f5b6a28b0",
   "metadata": {},
   "source": [
    "I then visualized the dataset using heatmap to show how the dataset has improved after dropping these columns. "
   ]
  },
  {
   "cell_type": "code",
   "execution_count": 7,
   "id": "98a156b6-d3f5-4ad4-b6d7-e49abe6b4cf5",
   "metadata": {},
   "outputs": [
    {
     "data": {
      "image/png": "[encoded data removed]",
      "text/plain": [
       "<Figure size 1000x600 with 1 Axes>"
      ]
     },
     "metadata": {},
     "output_type": "display_data"
    }
   ],
   "source": [
    "#Step 3: Visualize missing values using a heatmap\n",
    "missing_values = df.isnull().sum()\n",
    "plt.figure(figsize=(10, 6))\n",
    "sns.heatmap(df.isnull(), cbar=False, cmap='viridis')\n",
    "plt.show()"
   ]
  },
  {
   "cell_type": "code",
   "execution_count": 8,
   "id": "19bc0d2e-2561-45e7-a252-8f28059a7f53",
   "metadata": {},
   "outputs": [
    {
     "name": "stdout",
     "output_type": "stream",
     "text": [
      "There are 0 duplicate values in the data.\n"
     ]
    }
   ],
   "source": [
    "#Remove duplicates: \n",
    "df.drop_duplicates(inplace=True)\n",
    "print(\"There are {} duplicate values in the data.\".format(df.duplicated().sum()))"
   ]
  },
  {
   "cell_type": "code",
   "execution_count": 9,
   "id": "03d9e731-5eda-4915-8adf-2842f9d25953",
   "metadata": {},
   "outputs": [
    {
     "name": "stderr",
     "output_type": "stream",
     "text": [
      "C:\\Users\\pc\\AppData\\Local\\Temp\\ipykernel_1344\\1102481094.py:2: FutureWarning: The default value of regex will change from True to False in a future version. In addition, single character regular expressions will *not* be treated as literal strings when regex=True.\n",
      "  df['gdp_country'] = df['gdp_country'].str.replace('$','').replace(',','', regex=True).astype(float)\n"
     ]
    }
   ],
   "source": [
    "# Convert 'gdp_country' to float by removing '$' and ','\n",
    "df['gdp_country'] = df['gdp_country'].str.replace('$','').replace(',','', regex=True).astype(float)"
   ]
  },
  {
   "cell_type": "code",
   "execution_count": 10,
   "id": "bac810c3-974e-4d16-a205-d7c469b36378",
   "metadata": {},
   "outputs": [],
   "source": [
    "# Fill missing values in 'country' with the most common value\n",
    "most_common_country = df['country'].mode().iloc[0]\n",
    "df['country'].fillna(most_common_country, inplace=True)"
   ]
  },
  {
   "cell_type": "markdown",
   "id": "15d1d6ee-0506-429e-afc3-7863fab80abc",
   "metadata": {},
   "source": [
    "I aimed to fill the missing values in the 'year' and 'birthDate' columns with the values from the row above. However, as a prerequisite, I wanted to confirm whether these columns are sorted in ascending order before proceeding with the filling process"
   ]
  },
  {
   "cell_type": "code",
   "execution_count": 11,
   "id": "fc2b2ce5-6caa-4388-bbf4-5cc828a64156",
   "metadata": {},
   "outputs": [
    {
     "name": "stdout",
     "output_type": "stream",
     "text": [
      "The 'birthYear' column is sorted in ascending order: False\n",
      "The 'birthDate' column is sorted in ascending order: False\n"
     ]
    }
   ],
   "source": [
    "\n",
    "# Check if 'birthYear' column is sorted in ascending order\n",
    "is_sorted_year = df['birthYear'].equals(df['birthYear'].sort_values())\n",
    "\n",
    "# Check if 'birthDate' column is sorted in ascending order\n",
    "is_sorted_date = df['birthDate'].equals(df['birthDate'].sort_values())\n",
    "\n",
    "# Print the results\n",
    "print(f\"The 'birthYear' column is sorted in ascending order: {is_sorted_year}\")\n",
    "print(f\"The 'birthDate' column is sorted in ascending order: {is_sorted_date}\")"
   ]
  },
  {
   "cell_type": "markdown",
   "id": "5b7bb31c-404d-44a2-b68c-554560446ed7",
   "metadata": {},
   "source": [
    "<h3> <strong>Feature Engineering for Cleaning the data further </strong></h3>"
   ]
  },
  {
   "cell_type": "markdown",
   "id": "5beaf776-0f72-40a9-9512-c0f7e10919ab",
   "metadata": {},
   "source": [
    "As evident from the data, the 'birthYear', 'birthDay', and 'birthMonth' columns are not sorted in ascending order. Filling missing values with the row above might disrupt the data integrity. To address this, I've chosen to impute missing values in these columns with the most common values observed throughout the dataset."
   ]
  },
  {
   "cell_type": "markdown",
   "id": "e0c22685-f84f-462a-b83d-6e165ddd2073",
   "metadata": {},
   "source": [
    "As for the 'birthDate' column, I aimed to fill in missing values using the available information from 'birthYear', 'birthMonth', and 'birthDay' columns."
   ]
  },
  {
   "cell_type": "code",
   "execution_count": 13,
   "id": "edf55f40-a699-41aa-a4d6-233f34e3941f",
   "metadata": {},
   "outputs": [
    {
     "name": "stdout",
     "output_type": "stream",
     "text": [
      "All missing values in 'birthDate' are filled.\n"
     ]
    }
   ],
   "source": [
    "# Fill missing values in 'birthYear' with the most common value\n",
    "most_common_year = df['birthYear'].mode().iloc[0]\n",
    "df['birthYear'].fillna(most_common_year, inplace=True)\n",
    "\n",
    "# Fill missing values in 'birthDay' with the most common value\n",
    "most_common_day = df['birthDay'].mode().iloc[0]\n",
    "df['birthDay'].fillna(most_common_day, inplace=True)\n",
    "\n",
    "# Fill missing values in 'birthMonth' with the most common value\n",
    "most_common_month = df['birthMonth'].mode().iloc[0]\n",
    "df['birthMonth'].fillna(most_common_month, inplace=True)\n",
    "\n",
    "# Combine 'birthYear', 'birthMonth', and 'birthDay' to create a new datetime column\n",
    "new_birth_date = pd.to_datetime(df['birthYear'].astype(int).astype(str) + '-' + df['birthMonth'].astype(int).astype(str) + '-' + df['birthDay'].astype(int).astype(str), errors='coerce')\n",
    "\n",
    "# Fill missing values in 'birthDate' with values from the new column\n",
    "df['birthDate'].fillna(new_birth_date, inplace=True)\n",
    "\n",
    "# Check if all missing values in 'birthDate' are filled\n",
    "missing_birth_date = df[df['birthDate'].isnull()]\n",
    "if missing_birth_date.empty:\n",
    "    print(\"All missing values in 'birthDate' are filled.\")\n",
    "else:\n",
    "    print(f\"Missing values still present in 'birthDate' at indices: {missing_birth_date.index}\")"
   ]
  },
  {
   "cell_type": "markdown",
   "id": "7ea8a38d-e7dd-468f-8937-1d2d01b4ca67",
   "metadata": {},
   "source": [
    "For the missing values in the columns: gdp_country, gross_tertiary_education_enrollment, gross_primary_education_enrollment_country,  total_tax_rate_country, population_country, latitude_country, and longitude_country. I intended to fill them by examining the associated country of each missing value. Subsequently, I substituted these missing values with the most common values observed for each respective column within their corresponding countries."
   ]
  },
  {
   "cell_type": "code",
   "execution_count": 14,
   "id": "ddee3f5c-9e44-4c24-b96e-65af9322c372",
   "metadata": {},
   "outputs": [
    {
     "name": "stdout",
     "output_type": "stream",
     "text": [
      "There are 1000 missing values in the data.\n"
     ]
    }
   ],
   "source": [
    "\n",
    "columns_to_fill = ['gdp_country', 'gross_tertiary_education_enrollment',\n",
    "                   'gross_primary_education_enrollment_country', \n",
    "                   'total_tax_rate_country', 'population_country', 'latitude_country', 'longitude_country']\n",
    "\n",
    "for column in columns_to_fill:\n",
    "    # Group by 'country' and find the most common value for each column\n",
    "    def most_common_value(x):\n",
    "        mode_result = x.mode()\n",
    "        return mode_result.iloc[0] if not mode_result.empty else None\n",
    "\n",
    "    most_common_values = df.groupby('country')[column].agg(most_common_value).reset_index()\n",
    "\n",
    "    # Merge the most common values back to the original DataFrame\n",
    "    df = pd.merge(df, most_common_values, on='country', how='left', suffixes=('', '_most_common'))\n",
    "\n",
    "    # Fill missing values in the column with the most common value for each country\n",
    "    df[column].fillna(df[column + '_most_common'], inplace=True)\n",
    "\n",
    "    # Drop the temporary column\n",
    "    df.drop(column + '_most_common', axis=1, inplace=True)\n",
    "\n",
    "# Check the number of remaining missing values\n",
    "remaining_missing_values = df.isnull().sum().sum()\n",
    "print(f\"There are {remaining_missing_values} missing values in the data.\")"
   ]
  },
  {
   "cell_type": "markdown",
   "id": "4f02a825-7b4e-4410-af1d-afdb80c2e8af",
   "metadata": {},
   "source": [
    "However, as you can see this was not helpful, I still have them as missing values. Therefore, I filled these missing values by by the mean of each column."
   ]
  },
  {
   "cell_type": "code",
   "execution_count": 15,
   "id": "a2b301d5-f3db-4439-988b-b956dc251432",
   "metadata": {},
   "outputs": [
    {
     "name": "stdout",
     "output_type": "stream",
     "text": [
      "There are 317 missing values in the data after filling with the mean.\n"
     ]
    },
    {
     "name": "stderr",
     "output_type": "stream",
     "text": [
      "C:\\Users\\pc\\AppData\\Local\\Programs\\Python\\Python38-32\\lib\\site-packages\\pandas\\core\\dtypes\\astype.py:189: RuntimeWarning: invalid value encountered in cast\n",
      "  return values.astype(dtype, copy=copy)\n"
     ]
    }
   ],
   "source": [
    "columns_to_fill = ['gdp_country', 'gross_tertiary_education_enrollment',\n",
    "                   'gross_primary_education_enrollment_country',\n",
    "                   'total_tax_rate_country', 'population_country']\n",
    "\n",
    "# Fill missing values with the mean of each column\n",
    "df[columns_to_fill] = df[columns_to_fill].apply(lambda x: x.fillna(x.mean()))\n",
    "\n",
    "# Convert specified columns to integers and round up\n",
    "df[columns_to_fill] = np.ceil(df[columns_to_fill]).astype(int)\n",
    "\n",
    "# Check the number of remaining missing values\n",
    "remaining_missing_values = df.isnull().sum().sum()\n",
    "print(f\"There are {remaining_missing_values} missing values in the data after filling with the mean.\")"
   ]
  },
  {
   "cell_type": "markdown",
   "id": "11b31519-a40c-468f-8274-ec021bb18849",
   "metadata": {},
   "source": [
    "Regarding the latitude and longitude values, employing the same strategy might lead to inaccuracies. Given that we already possess a designated country section, I've opted to eliminate the longitude and latitude values. Tableau possesses the capability to derive longitude and latitude values based on the provided country information, mitigating the need for redundant data and enhancing visualization accuracy."
   ]
  },
  {
   "cell_type": "code",
   "execution_count": 16,
   "id": "70fd36ad-c5b5-4dfb-9558-ee7405693011",
   "metadata": {},
   "outputs": [],
   "source": [
    "# List of columns to fill missing values\n",
    "columns_to_fill = ['latitude_country', 'longitude_country']\n",
    "\n",
    "# Define the columns to drop\n",
    "columns_to_drop = ['latitude_country', 'longitude_country']\n",
    "\n",
    "# Drop the specified columns\n",
    "df.drop(columns=columns_to_drop, axis=1, inplace=True)"
   ]
  },
  {
   "cell_type": "markdown",
   "id": "6ac46e25-5fe3-4e86-8f11-5f02bf5932c2",
   "metadata": {},
   "source": [
    "To calcaluate missing values for age column, I calculated the age based on the birth year, and fills in missing values with the mean age. But before that I converted the birthDate column to date time. "
   ]
  },
  {
   "cell_type": "code",
   "execution_count": 17,
   "id": "c9edfc22-1388-412f-8fac-24aa294292ef",
   "metadata": {},
   "outputs": [
    {
     "name": "stderr",
     "output_type": "stream",
     "text": [
      "C:\\Users\\pc\\AppData\\Local\\Temp\\ipykernel_1344\\4223771365.py:5: FutureWarning: The parsing of 'now' in pd.to_datetime without `utc=True` is deprecated. In a future version, this will match Timestamp('now') and Timestamp.now()\n",
      "  current_year = pd.to_datetime('now').year\n"
     ]
    }
   ],
   "source": [
    "# Convert 'birthDate' to datetime\n",
    "df['birthDate'] = pd.to_datetime(df['birthDate'], errors='coerce')\n",
    "\n",
    "# Calculate age from 'birthDate'\n",
    "current_year = pd.to_datetime('now').year\n",
    "df['age'] = current_year - df['birthDate'].dt.year\n",
    "\n",
    "# Fill missing values in 'age' with the calculated age from 'birthDate'\n",
    "df['age'].fillna(current_year - df['birthDate'].dt.year, inplace=True)\n"
   ]
  },
  {
   "cell_type": "code",
   "execution_count": 18,
   "id": "889d3f81-1039-4004-996d-71a38385a28e",
   "metadata": {},
   "outputs": [
    {
     "name": "stdout",
     "output_type": "stream",
     "text": [
      "Total rows with missing values: 0\n"
     ]
    }
   ],
   "source": [
    "# Count the number of missing values in each row\n",
    "missing_rows = df.isnull().sum(axis=1)\n",
    "\n",
    "# Count the total number of rows with at least one missing value\n",
    "total_missing_rows = len(missing_rows[missing_rows > 0])\n",
    "\n",
    "# Print the result\n",
    "print(f'Total rows with missing values: {total_missing_rows}')"
   ]
  },
  {
   "cell_type": "markdown",
   "id": "7601a928-d44d-4444-abb2-d8a6d1d69e24",
   "metadata": {},
   "source": [
    "<h3> <strong>Discriptive Statistics </strong></h3>"
   ]
  },
  {
   "cell_type": "markdown",
   "id": "752f0e01-95d2-435f-8cf5-654b02fb43bc",
   "metadata": {},
   "source": [
    "Descriptive statistics serves as a powerful tool for comprehending the nuances within a dataset. In preparation for data visualization, I started the exploration process by performing statistical analyses to understand my data better."
   ]
  },
  {
   "cell_type": "code",
   "execution_count": 18,
   "id": "386abc2d-604c-493a-801a-28c0ed5591c7",
   "metadata": {},
   "outputs": [
    {
     "data": {
      "text/plain": [
       "Index(['rank', 'finalWorth', 'category', 'personName', 'age', 'country',\n",
       "       'source', 'industries', 'countryOfCitizenship', 'selfMade', 'status',\n",
       "       'gender', 'birthDate', 'date', 'birthYear', 'birthMonth', 'birthDay',\n",
       "       'gdp_country', 'gross_tertiary_education_enrollment',\n",
       "       'gross_primary_education_enrollment_country', 'total_tax_rate_country',\n",
       "       'population_country', 'latitude_country', 'longitude_country'],\n",
       "      dtype='object')"
      ]
     },
     "execution_count": 18,
     "metadata": {},
     "output_type": "execute_result"
    }
   ],
   "source": [
    "#I started by calling out my columns to see which columns I want to explore further.\n",
    "df.columns"
   ]
  },
  {
   "cell_type": "code",
   "execution_count": 19,
   "id": "64d7a4be-3205-4cb8-9bd9-36d78bce04fb",
   "metadata": {},
   "outputs": [
    {
     "name": "stdout",
     "output_type": "stream",
     "text": [
      "Descriptive Statistics Summary for Rounded-Up Age:\n",
      "count    2640\n",
      "mean       65\n",
      "std        13\n",
      "min        19\n",
      "25%        57\n",
      "50%        65\n",
      "75%        75\n",
      "max       102\n",
      "Name: age, dtype: int32\n"
     ]
    }
   ],
   "source": [
    "#Descriptive Statistics Summary for Age of billionaires\n",
    "# Round up and convert 'age' to integer\n",
    "df['age'] = np.ceil(df['age']).astype(int)\n",
    "\n",
    "# Print the descriptive statistics summary with integer values\n",
    "summary_stats = df['age'].describe().astype(int)\n",
    "\n",
    "# Display the result\n",
    "print(\"Descriptive Statistics Summary for Rounded-Up Age:\")\n",
    "print(summary_stats)"
   ]
  },
  {
   "cell_type": "code",
   "execution_count": 20,
   "id": "f8ff64c2-8aff-4534-b931-c0fc100fa7ad",
   "metadata": {},
   "outputs": [
    {
     "name": "stdout",
     "output_type": "stream",
     "text": [
      "Percentage % of Males and Females in the Dataset:\n",
      "M    87.23\n",
      "F    12.77\n",
      "Name: gender, dtype: float64\n"
     ]
    }
   ],
   "source": [
    "# Calculate the percentage of males and females\n",
    "gender_counts = df['gender'].value_counts(normalize=True)*100\n",
    "\n",
    "# Display the result\n",
    "print(\"Percentage % of Males and Females in the Dataset:\")\n",
    "print(gender_counts.round(2))"
   ]
  },
  {
   "cell_type": "code",
   "execution_count": 21,
   "id": "ebd11f4d-0f2b-4bed-9554-f965c443dddd",
   "metadata": {},
   "outputs": [
    {
     "name": "stdout",
     "output_type": "stream",
     "text": [
      "Descriptive Statistics Summary for 'finalWorth':\n",
      "count      2640.0\n",
      "mean       4623.8\n",
      "std        9834.2\n",
      "min        1000.0\n",
      "25%        1500.0\n",
      "50%        2300.0\n",
      "75%        4200.0\n",
      "max      211000.0\n",
      "Name: finalWorth, dtype: float64\n"
     ]
    }
   ],
   "source": [
    "# Descriptive statistics for 'finalWorth'\n",
    "finalWorth_stats = df['finalWorth'].describe()\n",
    "\n",
    "# Display the result\n",
    "print(\"Descriptive Statistics Summary for 'finalWorth':\")\n",
    "print(finalWorth_stats.round(1))"
   ]
  },
  {
   "cell_type": "code",
   "execution_count": 22,
   "id": "444cbfa5-aab3-4c2a-8e1d-6edb16d29c69",
   "metadata": {},
   "outputs": [
    {
     "name": "stdout",
     "output_type": "stream",
     "text": [
      "Percentage Count of Self-Made and Inherited Billionaires:\n",
      "      Status  Percentage %\n",
      "0  Self-Made         68.64\n",
      "1  Inherited         31.36\n"
     ]
    }
   ],
   "source": [
    "\n",
    "# Calculate the percentage count of self-made and inherited billionaires\n",
    "self_made_counts = df['selfMade'].value_counts(normalize=True) * 100\n",
    "\n",
    "# Create a DataFrame from the percentages\n",
    "self_made_percentage_table = pd.DataFrame({\n",
    "    'Status': ['Self-Made', 'Inherited'],\n",
    "    'Percentage %': self_made_counts.values\n",
    "})\n",
    "\n",
    "# Display the result\n",
    "print(\"Percentage Count of Self-Made and Inherited Billionaires:\")\n",
    "print(self_made_percentage_table.round(2))"
   ]
  },
  {
   "cell_type": "markdown",
   "id": "d74f8e60-4b57-46be-9de5-a7282b859c39",
   "metadata": {},
   "source": [
    "In an effort to gain deeper insights into the dataset, I performed descriptive statistics on categorical columns. This involved determining frequency counts to understand the distribution of unique values, identifying the mode to pinpoint the most prevalent categories, and listing all unique values to assess diversity."
   ]
  },
  {
   "cell_type": "code",
   "execution_count": 23,
   "id": "36293069-4da0-49d9-851f-02513c4acce6",
   "metadata": {},
   "outputs": [],
   "source": [
    "def categorical_descriptive_stats(column):\n",
    "    \"\"\"\n",
    "    Calculate descriptive statistics for a categorical column.\n",
    "    \n",
    "    Parameters:\n",
    "    - column: Pandas Series, the categorical column\n",
    "    \n",
    "    Returns:\n",
    "    - None (prints the results)\n",
    "    \"\"\"\n",
    "    print(f\"Descriptive Statistics for '{column.name}':\")\n",
    "    \n",
    "    # Frequency Counts\n",
    "    frequency_counts = column.value_counts()\n",
    "    print(f\"Frequency Counts:\\n{frequency_counts}\\n\")\n",
    "    \n",
    "    # Mode\n",
    "    mode_value = column.mode().iloc[0]\n",
    "    print(f\"Mode: {mode_value}\\n\")\n",
    "    \n",
    "    # Unique Values\n",
    "    unique_values = column.unique()\n",
    "    print(f\"Unique Values:\\n{unique_values}\\n\")\n",
    "    \n"
   ]
  },
  {
   "cell_type": "code",
   "execution_count": 24,
   "id": "c7cb68d3-3fa8-439a-a33d-d92644399af3",
   "metadata": {},
   "outputs": [
    {
     "name": "stdout",
     "output_type": "stream",
     "text": [
      "Descriptive Statistics for 'industries':\n",
      "Frequency Counts:\n",
      "Finance & Investments         372\n",
      "Manufacturing                 324\n",
      "Technology                    314\n",
      "Fashion & Retail              266\n",
      "Food & Beverage               212\n",
      "Healthcare                    201\n",
      "Real Estate                   193\n",
      "Diversified                   187\n",
      "Energy                        100\n",
      "Media & Entertainment          91\n",
      "Metals & Mining                74\n",
      "Automotive                     73\n",
      "Service                        53\n",
      "Construction & Engineering     45\n",
      "Logistics                      40\n",
      "Sports                         39\n",
      "Telecom                        31\n",
      "Gambling & Casinos             25\n",
      "Name: industries, dtype: int64\n",
      "\n",
      "Mode: Finance & Investments\n",
      "\n",
      "Unique Values:\n",
      "['Fashion & Retail' 'Automotive' 'Technology' 'Finance & Investments'\n",
      " 'Media & Entertainment' 'Telecom' 'Diversified' 'Food & Beverage'\n",
      " 'Logistics' 'Gambling & Casinos' 'Manufacturing' 'Real Estate'\n",
      " 'Metals & Mining' 'Energy' 'Healthcare' 'Service'\n",
      " 'Construction & Engineering' 'Sports']\n",
      "\n"
     ]
    }
   ],
   "source": [
    "# Descriptive Statistics for 'Industries'\n",
    "categorical_descriptive_stats(df['industries'])"
   ]
  },
  {
   "cell_type": "code",
   "execution_count": 25,
   "id": "c52b13ab-0038-49e2-9f1f-af6aaae22bee",
   "metadata": {},
   "outputs": [
    {
     "name": "stdout",
     "output_type": "stream",
     "text": [
      "Descriptive Statistics for 'country':\n",
      "Frequency Counts:\n",
      "United States           792\n",
      "China                   523\n",
      "India                   157\n",
      "Germany                 102\n",
      "United Kingdom           82\n",
      "                       ... \n",
      "Portugal                  1\n",
      "Georgia                   1\n",
      "Eswatini (Swaziland)      1\n",
      "Uzbekistan                1\n",
      "Armenia                   1\n",
      "Name: country, Length: 78, dtype: int64\n",
      "\n",
      "Mode: United States\n",
      "\n",
      "Unique Values:\n",
      "['France' 'United States' 'Mexico' 'India' 'Spain' 'China' 'Canada'\n",
      " 'Germany' 'Switzerland' 'Belgium' 'Hong Kong' 'Austria' 'Japan'\n",
      " 'United Kingdom' 'Australia' 'Indonesia' 'United Arab Emirates' 'Russia'\n",
      " 'Chile' 'Monaco' 'Czech Republic' 'Sweden' 'Thailand' 'Uzbekistan'\n",
      " 'Singapore' 'Nigeria' 'Israel' 'Italy' 'South Africa' 'Brazil' 'Malaysia'\n",
      " 'South Korea' 'New Zealand' 'Philippines' 'Taiwan' 'Norway' 'Egypt'\n",
      " 'Denmark' 'Eswatini (Swaziland)' 'Colombia' 'Netherlands' 'Poland'\n",
      " 'Bahamas' 'Ukraine' 'Cayman Islands' 'Greece' 'Turkey' 'Argentina'\n",
      " 'Georgia' 'Portugal' 'Kazakhstan' 'Algeria' 'Vietnam' 'Latvia' 'Finland'\n",
      " 'Bermuda' 'Luxembourg' 'British Virgin Islands' 'Cambodia' 'Lebanon'\n",
      " 'Oman' 'Ireland' 'Cyprus' 'Guernsey' 'Liechtenstein'\n",
      " 'Turks and Caicos Islands' 'Romania' 'Qatar' 'Uruguay' 'Nepal' 'Slovakia'\n",
      " 'Morocco' 'Hungary' 'Tanzania' 'Bahrain' 'Peru' 'Andorra' 'Armenia']\n",
      "\n"
     ]
    }
   ],
   "source": [
    "# Descriptive Statistics for 'country'\n",
    "categorical_descriptive_stats(df['country'])"
   ]
  },
  {
   "cell_type": "markdown",
   "id": "268fd685-1a9b-4caa-bab6-1ee44fe11f02",
   "metadata": {},
   "source": [
    "<h2> <strong>Data Export  </strong></h2>"
   ]
  },
  {
   "cell_type": "markdown",
   "id": "af555068-2322-4666-8eff-044758fc8adf",
   "metadata": {},
   "source": [
    "As I finished exploring the data statistics, I saved the cleaned DataFrame as a CSV file using the .to_csv method to preserve the integrity and structure of the cleaned data and facilitate a seamless transition to Tableau Public for subsequent analysis and visualization."
   ]
  },
  {
   "cell_type": "code",
   "execution_count": 20,
   "id": "8f7e325f-c9be-418b-8183-0040afda625b",
   "metadata": {},
   "outputs": [],
   "source": [
    "df.to_csv('cleaned_billionaire_data1.csv', index=False)"
   ]
  },
  {
   "cell_type": "markdown",
   "id": "2bc28c19-23bc-425c-b14c-772b538641ff",
   "metadata": {},
   "source": [
    "\n"
   ]
  },
  {
   "cell_type": "markdown",
   "id": "ad17b2d5-0e69-4dbf-aa20-5cdf9c0b5f8d",
   "metadata": {},
   "source": [
    "<h2> <strong>Visualisation</strong></h2>"
   ]
  },
  {
   "cell_type": "markdown",
   "id": "6a570c3c-615c-442f-b1bc-23a2f5c7fc74",
   "metadata": {},
   "source": [
    "In visualization using Tableau, I aimed to explore these questions through visualization: \n",
    "1. **How Many Billionaires Worldwide?** - Seeking a comprehensive understanding of the global distribution of billionaires.\n",
    "2. **What's the Average Age of Billionaires?** -  calculating the average age within this affluent group.\n",
    "3. **What Story Does the Age Distribution of Billionaires Tell?** - Uncovering the age distribution patterns \n",
    "4. **Who Are More Likely to be Self-Made Billionaires, Men or Women?** - Analyzing the self-made status among billionaires, differentiated by gender.\n",
    "5. **In Which Countries Do Most Billionaires Reside?** - Identifying the countries with the highest concentrations of billionaires.\n",
    "6. **How is the Billionaire Population Distributed Across Genders?** - Investigating the demographic landscape by visualizing the distribution of billionaires based on gender.\n",
    "7. **Which Industries Do Most Billionaires Emerge From?** - Exploring the sectors that contribute the most to the billionaire population.\n",
    "8. **How is the Final Worth of Billionaires Distributed Geographically?** - Mapping the geographical distribution of billionaires and their corresponding final worth.\n",
    "9. **How Does Tertiary Education Enrollment Vary Across Countries where billionaires reside and how does it correlate with the number of billionaires?** - Investigating tertiary education enrollment rates in countries with billionaires and exploring correlations with billionaire numbers. \n",
    "10.  **How Does the Billionaire Wealth Correlate with Tax Rates?** - Examining the correlation between billionaire wealth and tax rates\n",
    "\n",
    "I aimed not only to answer these questions but also to unravel narratives hidden within the dataset."
   ]
  },
  {
   "cell_type": "markdown",
   "id": "da7c07ec-28b5-4ac1-b8e1-76da540d8785",
   "metadata": {},
   "source": [
    "**You can access and download the Tableau visualizations using this link.**\n",
    "https://public.tableau.com/app/profile/hadil.hagar/viz/UnveilingtheBillionairesof2023/WhosRollininDoughUnveilingtheBillionairesof20233\n",
    "\n",
    "**Feel free to download and use them for your understanding.**"
   ]
  },
  {
   "cell_type": "markdown",
   "id": "f7f8e091-fb62-4c0d-abed-5791ec877cb7",
   "metadata": {},
   "source": [
    "The images below offer a glimpse of the visualizations"
   ]
  },
  {
   "cell_type": "markdown",
   "id": "bcaac0cd-eb06-4e10-9170-397444915073",
   "metadata": {},
   "source": [
    "<div>\n",
    "    <img src=\"C:/Users/pc/Documents/Projects/Billionaire/Viz/Sheet1.png\" alt=\"Image 1\" style=\"width: 30%; margin-right: 10px; display: inline-block;\">\n",
    "    <img src=\"C:/Users/pc/Documents/Projects/Billionaire/Viz/Sheet2.png\" alt=\"Image 2\" style=\"width: 30%; margin-right: 10px; display: inline-block;\">\n",
    "    <img src=\"C:/Users/pc/Documents/Projects/Billionaire/Viz/Sheet3.png\" alt=\"Image 3\" style=\"width: 30%; display: inline-block;\">\n",
    "</div>"
   ]
  },
  {
   "cell_type": "markdown",
   "id": "cd8dc6ec-214e-466f-b263-66188d385f57",
   "metadata": {},
   "source": [
    "<h2> <strong>Insights </strong></h2>"
   ]
  },
  {
   "cell_type": "markdown",
   "id": "ec130eff-18b3-48a8-9c71-d5b7b07281cf",
   "metadata": {},
   "source": [
    "1.  There are 2,640 billionaires around the globe! That's a lot of super-rich people.\r\n",
    "2. The trio of Bernard Arnaultand FFamily, Elon Musk, and Jeff Bezos leads the chart as the top three billionaires globally.\r\n",
    "3. The majority of billionaires fall within the age range of 55 to 65, with an average age of 66. They've got a lot of experience under their belts.\r\n",
    "4. Finance & Investment, Technology, and Manufacturing are the top industries where billionaires emerge.  They're making big bucks there!\r\n",
    "5. The United States, China, India, France, and Germany stand as the top residences of billionaires, with the U.S. alone amassing a staggering $4,667 billion in cumulative wealth.\r\n",
    "6. Gender distribution among billionaires shows a notable skew, with 87.38% being male and 12.26% female—making it a bit of a guy-dominated club!\r\n",
    "7. Divergence in wealth acquisition methods is pronounced, with 31.36% self-made billionaires and 68.64% inheriting their affluence, illustrating a dynamic interplay between entrepreneurship and familial wealth legacies.\r\n",
    "8. The United States (540) and China (506) have the highest numbers of self-made billionaires.\r\n",
    "9. Technology and and iance & Investments industries stand out as the top producers of self-made billionaires.\r\n",
    "10. Male billionaires predominantly inherit their wealth, while female billionaires are more likely to be self-made. However, the total count of male self-made billionaires exceeds that of females.\r\n",
    "11. Male Inherited billionaires are 65%. This raise questions in why more male billioanires inherit than females and would that mean that males are controlling the wealth of the family in most cases. \r\n",
    "12. Most billionaires are in the 35% tax bracket, with a few opting for the 65% bracket. This gives us a glimpse into how they handle their finances.\r\n",
    "13. Greece, Australia, and South Korea are rocking high tertiary education enrollment rates. But guess what? These countries don't match up with where the most billionaires live. So, education might not be the secret sauce to being a billionaireafter all!\r\n",
    " "
   ]
  },
  {
   "cell_type": "code",
   "execution_count": null,
   "id": "28587988-6fce-46ea-a82c-fa735141bce9",
   "metadata": {},
   "outputs": [],
   "source": []
  }
 ],
 "metadata": {
  "kernelspec": {
   "display_name": "Python 3 (ipykernel)",
   "language": "python",
   "name": "python3"
  },
  "language_info": {
   "codemirror_mode": {
    "name": "ipython",
    "version": 3
   },
   "file_extension": ".py",
   "mimetype": "text/x-python",
   "name": "python",
   "nbconvert_exporter": "python",
   "pygments_lexer": "ipython3",
   "version": "3.8.5"
  }
 },
 "nbformat": 4,
 "nbformat_minor": 5
}
